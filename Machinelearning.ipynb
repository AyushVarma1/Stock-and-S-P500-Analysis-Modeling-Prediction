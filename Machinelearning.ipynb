{
 "cells": [
  {
   "cell_type": "code",
   "execution_count": null,
   "id": "e010bb9f-3c6e-4c4a-ba85-14eb1b1a1905",
   "metadata": {},
   "outputs": [],
   "source": [
    "import os; print(os.getcwd())"
   ]
  },
  {
   "cell_type": "code",
   "execution_count": 6,
   "id": "fbd89c9f-ba04-4c8b-b730-364a7a9d0672",
   "metadata": {},
   "outputs": [],
   "source": [
    "import pandas as pd\n",
    "music_data  = pd.read_csv('music.csv')"
   ]
  },
  {
   "cell_type": "code",
   "execution_count": null,
   "id": "52773974-be34-4117-be33-338542059cad",
   "metadata": {},
   "outputs": [],
   "source": [
    "print(music_data)"
   ]
  },
  {
   "cell_type": "code",
   "execution_count": null,
   "id": "c12f0d83-df2c-4fb4-aa09-323b67e95066",
   "metadata": {},
   "outputs": [],
   "source": [
    "#training a model requires two separate data sets, input and output, output is the prediction after given a new input set"
   ]
  },
  {
   "cell_type": "code",
   "execution_count": 7,
   "id": "ee289f94-d181-40a1-8b9e-f3421570592e",
   "metadata": {},
   "outputs": [
    {
     "data": {
      "text/html": [
       "<div>\n",
       "<style scoped>\n",
       "    .dataframe tbody tr th:only-of-type {\n",
       "        vertical-align: middle;\n",
       "    }\n",
       "\n",
       "    .dataframe tbody tr th {\n",
       "        vertical-align: top;\n",
       "    }\n",
       "\n",
       "    .dataframe thead th {\n",
       "        text-align: right;\n",
       "    }\n",
       "</style>\n",
       "<table border=\"1\" class=\"dataframe\">\n",
       "  <thead>\n",
       "    <tr style=\"text-align: right;\">\n",
       "      <th></th>\n",
       "      <th>age</th>\n",
       "      <th>gender</th>\n",
       "    </tr>\n",
       "  </thead>\n",
       "  <tbody>\n",
       "    <tr>\n",
       "      <th>0</th>\n",
       "      <td>20</td>\n",
       "      <td>1</td>\n",
       "    </tr>\n",
       "    <tr>\n",
       "      <th>1</th>\n",
       "      <td>23</td>\n",
       "      <td>1</td>\n",
       "    </tr>\n",
       "    <tr>\n",
       "      <th>2</th>\n",
       "      <td>25</td>\n",
       "      <td>1</td>\n",
       "    </tr>\n",
       "    <tr>\n",
       "      <th>3</th>\n",
       "      <td>26</td>\n",
       "      <td>1</td>\n",
       "    </tr>\n",
       "    <tr>\n",
       "      <th>4</th>\n",
       "      <td>29</td>\n",
       "      <td>1</td>\n",
       "    </tr>\n",
       "    <tr>\n",
       "      <th>5</th>\n",
       "      <td>30</td>\n",
       "      <td>1</td>\n",
       "    </tr>\n",
       "    <tr>\n",
       "      <th>6</th>\n",
       "      <td>31</td>\n",
       "      <td>1</td>\n",
       "    </tr>\n",
       "    <tr>\n",
       "      <th>7</th>\n",
       "      <td>33</td>\n",
       "      <td>1</td>\n",
       "    </tr>\n",
       "    <tr>\n",
       "      <th>8</th>\n",
       "      <td>37</td>\n",
       "      <td>1</td>\n",
       "    </tr>\n",
       "    <tr>\n",
       "      <th>9</th>\n",
       "      <td>20</td>\n",
       "      <td>0</td>\n",
       "    </tr>\n",
       "    <tr>\n",
       "      <th>10</th>\n",
       "      <td>21</td>\n",
       "      <td>0</td>\n",
       "    </tr>\n",
       "    <tr>\n",
       "      <th>11</th>\n",
       "      <td>25</td>\n",
       "      <td>0</td>\n",
       "    </tr>\n",
       "    <tr>\n",
       "      <th>12</th>\n",
       "      <td>26</td>\n",
       "      <td>0</td>\n",
       "    </tr>\n",
       "    <tr>\n",
       "      <th>13</th>\n",
       "      <td>27</td>\n",
       "      <td>0</td>\n",
       "    </tr>\n",
       "    <tr>\n",
       "      <th>14</th>\n",
       "      <td>30</td>\n",
       "      <td>0</td>\n",
       "    </tr>\n",
       "    <tr>\n",
       "      <th>15</th>\n",
       "      <td>31</td>\n",
       "      <td>0</td>\n",
       "    </tr>\n",
       "    <tr>\n",
       "      <th>16</th>\n",
       "      <td>34</td>\n",
       "      <td>0</td>\n",
       "    </tr>\n",
       "    <tr>\n",
       "      <th>17</th>\n",
       "      <td>35</td>\n",
       "      <td>0</td>\n",
       "    </tr>\n",
       "  </tbody>\n",
       "</table>\n",
       "</div>"
      ],
      "text/plain": [
       "    age  gender\n",
       "0    20       1\n",
       "1    23       1\n",
       "2    25       1\n",
       "3    26       1\n",
       "4    29       1\n",
       "5    30       1\n",
       "6    31       1\n",
       "7    33       1\n",
       "8    37       1\n",
       "9    20       0\n",
       "10   21       0\n",
       "11   25       0\n",
       "12   26       0\n",
       "13   27       0\n",
       "14   30       0\n",
       "15   31       0\n",
       "16   34       0\n",
       "17   35       0"
      ]
     },
     "execution_count": 7,
     "metadata": {},
     "output_type": "execute_result"
    }
   ],
   "source": [
    "X = music_data.drop(columns = ['genre'])\n",
    "X"
   ]
  },
  {
   "cell_type": "code",
   "execution_count": 8,
   "id": "313f3a2c-216a-490e-b305-1f249480441f",
   "metadata": {},
   "outputs": [],
   "source": [
    "y = music_data['genre']"
   ]
  },
  {
   "cell_type": "code",
   "execution_count": 10,
   "id": "9e6bf195-3450-4034-8aeb-8f5dba4f1ad4",
   "metadata": {},
   "outputs": [],
   "source": [
    "from sklearn.tree import DecisionTreeClassifier"
   ]
  },
  {
   "cell_type": "code",
   "execution_count": null,
   "id": "2b33711c-cfe0-4e3e-88dd-018861ff6e76",
   "metadata": {},
   "outputs": [],
   "source": [
    "model = DecisionTreeClassifier()\n",
    "model.fit(X, y)"
   ]
  },
  {
   "cell_type": "code",
   "execution_count": null,
   "id": "9c67fbd2-95a9-42e6-9ffe-964d9d248c13",
   "metadata": {},
   "outputs": [],
   "source": [
    "predictions = model.predict([[21, 1], [22, 0]])\n",
    "predictions"
   ]
  },
  {
   "cell_type": "code",
   "execution_count": null,
   "id": "074af68d-0bb5-4b37-9ccb-281a485b020c",
   "metadata": {},
   "outputs": [],
   "source": [
    "from sklearn.model_selection import train_test_split\n",
    "from sklearn.metrics import accuracy_score\n",
    "import numpy as np\n",
    "np.random.seed()\n",
    "X_train, X_test, y_train, y_test = train_test_split(X, y, test_size = 0.8)\n",
    "\n",
    "model.fit(X_train, y_train)\n",
    "new_predictions = model.predict(X_test)\n",
    "\n",
    "score = accuracy_score(y_test, new_predictions)\n",
    "score"
   ]
  },
  {
   "cell_type": "code",
   "execution_count": 11,
   "id": "0a939d4b-c247-438b-8531-4af14ff643c3",
   "metadata": {},
   "outputs": [
    {
     "data": {
      "text/plain": [
       "['music-recommeder.joblib']"
      ]
     },
     "execution_count": 11,
     "metadata": {},
     "output_type": "execute_result"
    }
   ],
   "source": [
    "#this is to save model training to a file so you do not have to rerun the model training everytime (cuz for large dataset it can take a long time)\n",
    "import joblib\n",
    "\n",
    "model = DecisionTreeClassifier()\n",
    "model.fit(X, y)\n",
    "\n",
    "#it is now saved in this files working directory\n",
    "joblib.dump(model, \"music-recommeder.joblib\")\n"
   ]
  },
  {
   "cell_type": "code",
   "execution_count": 12,
   "id": "d96c0924-187a-44d1-b61c-1b54ee81381d",
   "metadata": {},
   "outputs": [
    {
     "name": "stderr",
     "output_type": "stream",
     "text": [
      "D:\\Anacoda\\Lib\\site-packages\\sklearn\\utils\\validation.py:2739: UserWarning: X does not have valid feature names, but DecisionTreeClassifier was fitted with feature names\n",
      "  warnings.warn(\n"
     ]
    },
    {
     "data": {
      "text/plain": [
       "array(['HipHop'], dtype=object)"
      ]
     },
     "execution_count": 12,
     "metadata": {},
     "output_type": "execute_result"
    }
   ],
   "source": [
    "#load the model that we saved\n",
    "model = joblib.load(\"music-recommeder.joblib\")\n",
    "\n",
    "predictions = model.predict([[21, 1]])\n",
    "\n",
    "predictions"
   ]
  },
  {
   "cell_type": "code",
   "execution_count": 1,
   "id": "a525178c-5d08-47ad-830f-d3a3d399814d",
   "metadata": {},
   "outputs": [
    {
     "ename": "NameError",
     "evalue": "name 'model' is not defined",
     "output_type": "error",
     "traceback": [
      "\u001b[1;31m---------------------------------------------------------------------------\u001b[0m",
      "\u001b[1;31mNameError\u001b[0m                                 Traceback (most recent call last)",
      "Cell \u001b[1;32mIn[1], line 4\u001b[0m\n\u001b[0;32m      1\u001b[0m \u001b[38;5;28;01mfrom\u001b[39;00m\u001b[38;5;250m \u001b[39m\u001b[38;5;21;01msklearn\u001b[39;00m\u001b[38;5;250m \u001b[39m\u001b[38;5;28;01mimport\u001b[39;00m tree\n\u001b[0;32m      3\u001b[0m \u001b[38;5;66;03m#use vs code to view the graph produced.\u001b[39;00m\n\u001b[1;32m----> 4\u001b[0m tree\u001b[38;5;241m.\u001b[39mexport_graphviz(model, out_file \u001b[38;5;241m=\u001b[39m \u001b[38;5;124m\"\u001b[39m\u001b[38;5;124mmusic-recommender.dot\u001b[39m\u001b[38;5;124m\"\u001b[39m, feature_names \u001b[38;5;241m=\u001b[39m [\u001b[38;5;124m'\u001b[39m\u001b[38;5;124mage\u001b[39m\u001b[38;5;124m'\u001b[39m, \u001b[38;5;124m'\u001b[39m\u001b[38;5;124mgender\u001b[39m\u001b[38;5;124m'\u001b[39m], class_names \u001b[38;5;241m=\u001b[39m \u001b[38;5;28msorted\u001b[39m(y\u001b[38;5;241m.\u001b[39munique()), label \u001b[38;5;241m=\u001b[39m \u001b[38;5;124m'\u001b[39m\u001b[38;5;124mall\u001b[39m\u001b[38;5;124m'\u001b[39m, \n\u001b[0;32m      5\u001b[0m                     rounded \u001b[38;5;241m=\u001b[39m \u001b[38;5;28;01mTrue\u001b[39;00m, filled \u001b[38;5;241m=\u001b[39m \u001b[38;5;28;01mTrue\u001b[39;00m)\n",
      "\u001b[1;31mNameError\u001b[0m: name 'model' is not defined"
     ]
    }
   ],
   "source": [
    "from sklearn import tree\n",
    "\n",
    "#use vs code to view the graph produced.\n",
    "tree.export_graphviz(model, out_file = \"music-recommender.dot\", feature_names = ['age', 'gender'], class_names = sorted(y.unique()), label = 'all', \n",
    "                    rounded = True, filled = True) \n"
   ]
  },
  {
   "cell_type": "code",
   "execution_count": 5,
   "id": "77b14a0a-9a72-4251-a669-019207fa2a49",
   "metadata": {},
   "outputs": [
    {
     "name": "stdout",
     "output_type": "stream",
     "text": [
      "Requirement already satisfied: nbstripout in d:\\anacoda\\lib\\site-packages (0.8.1)\n",
      "Requirement already satisfied: nbformat in d:\\anacoda\\lib\\site-packages (from nbstripout) (5.10.4)\n",
      "Requirement already satisfied: fastjsonschema>=2.15 in d:\\anacoda\\lib\\site-packages (from nbformat->nbstripout) (2.20.0)\n",
      "Requirement already satisfied: jsonschema>=2.6 in d:\\anacoda\\lib\\site-packages (from nbformat->nbstripout) (4.23.0)\n",
      "Requirement already satisfied: jupyter-core!=5.0.*,>=4.12 in d:\\anacoda\\lib\\site-packages (from nbformat->nbstripout) (5.7.2)\n",
      "Requirement already satisfied: traitlets>=5.1 in d:\\anacoda\\lib\\site-packages (from nbformat->nbstripout) (5.14.3)\n",
      "Requirement already satisfied: attrs>=22.2.0 in d:\\anacoda\\lib\\site-packages (from jsonschema>=2.6->nbformat->nbstripout) (24.3.0)\n",
      "Requirement already satisfied: jsonschema-specifications>=2023.03.6 in d:\\anacoda\\lib\\site-packages (from jsonschema>=2.6->nbformat->nbstripout) (2023.7.1)\n",
      "Requirement already satisfied: referencing>=0.28.4 in d:\\anacoda\\lib\\site-packages (from jsonschema>=2.6->nbformat->nbstripout) (0.30.2)\n",
      "Requirement already satisfied: rpds-py>=0.7.1 in d:\\anacoda\\lib\\site-packages (from jsonschema>=2.6->nbformat->nbstripout) (0.22.3)\n",
      "Requirement already satisfied: platformdirs>=2.5 in d:\\anacoda\\lib\\site-packages (from jupyter-core!=5.0.*,>=4.12->nbformat->nbstripout) (4.3.7)\n",
      "Requirement already satisfied: pywin32>=300 in d:\\anacoda\\lib\\site-packages (from jupyter-core!=5.0.*,>=4.12->nbformat->nbstripout) (308)\n"
     ]
    }
   ],
   "source": [
    "!pip install nbstripout\n",
    "!nbstripout Machinelearning.ipynb"
   ]
  }
 ],
 "metadata": {
  "kernelspec": {
   "display_name": "Python [conda env:base] *",
   "language": "python",
   "name": "conda-base-py"
  },
  "language_info": {
   "codemirror_mode": {
    "name": "ipython",
    "version": 3
   },
   "file_extension": ".py",
   "mimetype": "text/x-python",
   "name": "python",
   "nbconvert_exporter": "python",
   "pygments_lexer": "ipython3",
   "version": "3.13.5"
  }
 },
 "nbformat": 4,
 "nbformat_minor": 5
}
